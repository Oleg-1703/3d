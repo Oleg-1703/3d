{
 "cells": [
  {
   "cell_type": "code",
   "execution_count": 1,
   "id": "072ec0c2",
   "metadata": {},
   "outputs": [
    {
     "name": "stdout",
     "output_type": "stream",
     "text": [
      "✓ simple-knn успешно установлен\n",
      "✓ Тест пройден\n"
     ]
    }
   ],
   "source": [
    "# test_simple_knn.py\n",
    "import torch\n",
    "try:\n",
    "    import simple_knn\n",
    "    print(\"✓ simple-knn успешно установлен\")\n",
    "    # Тест базовой функциональности\n",
    "    points = torch.rand(100, 3).cuda()\n",
    "    print(\"✓ Тест пройден\")\n",
    "except Exception as e:\n",
    "    print(f\"✗ Ошибка: {e}\")"
   ]
  }
 ],
 "metadata": {
  "kernelspec": {
   "display_name": "Python 3",
   "language": "python",
   "name": "python3"
  },
  "language_info": {
   "codemirror_mode": {
    "name": "ipython",
    "version": 3
   },
   "file_extension": ".py",
   "mimetype": "text/x-python",
   "name": "python",
   "nbconvert_exporter": "python",
   "pygments_lexer": "ipython3",
   "version": "3.8.10"
  }
 },
 "nbformat": 4,
 "nbformat_minor": 5
}
